{
 "cells": [
  {
   "cell_type": "markdown",
   "metadata": {},
   "source": [
    "# Docs, sources\n",
    "\n",
    "https://rufat.be/triangle/index.html - library used for triangulation\n",
    "\n",
    "https://stackoverflow.com/a/50974391/10093288 - this function can be used for drawing circles through three points\n",
    "\n",
    "https://en.wikipedia.org/wiki/Constrained_Delaunay_triangulation - Constrained Delaunay triangulation (definition)\n",
    "\n",
    "https://en.wikipedia.org/wiki/Circumscribed_circle - properties of circumscribed circle (theory)"
   ]
  },
  {
   "cell_type": "code",
   "execution_count": 23,
   "metadata": {},
   "outputs": [
    {
     "name": "stdout",
     "output_type": "stream",
     "text": [
      "Requirement already satisfied: triangle in /Users/roman/anaconda3/lib/python3.7/site-packages (20190115.3)\n",
      "Requirement already satisfied: numpy in /Users/roman/anaconda3/lib/python3.7/site-packages (from triangle) (1.15.1)\n",
      "\u001b[33mWARNING: You are using pip version 19.1.1, however version 19.2.3 is available.\n",
      "You should consider upgrading via the 'pip install --upgrade pip' command.\u001b[0m\n",
      "Requirement already satisfied: more-itertools in /Users/roman/anaconda3/lib/python3.7/site-packages (4.3.0)\n",
      "Requirement already satisfied: six<2.0.0,>=1.0.0 in /Users/roman/anaconda3/lib/python3.7/site-packages (from more-itertools) (1.11.0)\n",
      "\u001b[33mWARNING: You are using pip version 19.1.1, however version 19.2.3 is available.\n",
      "You should consider upgrading via the 'pip install --upgrade pip' command.\u001b[0m\n"
     ]
    }
   ],
   "source": [
    "!pip install triangle\n",
    "!pip install more-itertools"
   ]
  },
  {
   "cell_type": "code",
   "execution_count": 30,
   "metadata": {},
   "outputs": [],
   "source": [
    "import matplotlib.pyplot as plt\n",
    "import numpy as np\n",
    "import itertools as itr\n",
    "import triangle as tr"
   ]
  },
  {
   "cell_type": "markdown",
   "metadata": {},
   "source": [
    "### Defining input data "
   ]
  },
  {
   "cell_type": "code",
   "execution_count": 10,
   "metadata": {},
   "outputs": [],
   "source": [
    "polygonVertices = np.array([[0, 1], [-1, 0], [-3, 0], [0, 3], [3, 0], [1, 0]])\n",
    "polygonHolesPoints = np.array([[0,0]])\n",
    "polygonFrame = np.array([[0,1],[1,2],[2,3],[3,4],[4,5],[5,0]])\n",
    "\n",
    "inputPolygonInfo = dict(vertices=polygonVertices, \n",
    "                        holes=polygonHolesPoints, #not reqiered parameter in our case\n",
    "                        segments=polygonFrame)"
   ]
  },
  {
   "cell_type": "markdown",
   "metadata": {},
   "source": [
    "# Triagulation options\n",
    "**D** - Conforming Delaunay: use this switch if you want all triangles in the mesh to be Delaunay, and not just constrained Delaunay; or if you want to ensure that all Voronoi vertices lie within the triangulation.\n",
    "\n",
    "**p** - Triangulates a Planar Straight Line Graph.\n"
   ]
  },
  {
   "cell_type": "markdown",
   "metadata": {},
   "source": [
    "#### Styles"
   ]
  },
  {
   "cell_type": "code",
   "execution_count": 36,
   "metadata": {},
   "outputs": [],
   "source": [
    "circleBorderColor = '0.75'\n",
    "circleInnerColor = \"none\""
   ]
  },
  {
   "cell_type": "markdown",
   "metadata": {},
   "source": [
    "### Utility functions"
   ]
  },
  {
   "cell_type": "code",
   "execution_count": 13,
   "metadata": {},
   "outputs": [],
   "source": [
    "def define_circle(p1, p2, p3, epsilon = 1.0e-6):\n",
    "    \"\"\"\n",
    "    Returns the center and radius of the circle passing the given 3 points.\n",
    "    In case the 3 points form a line, returns (None, infinity).\n",
    "    \"\"\"\n",
    "    temp = p2[0] * p2[0] + p2[1] * p2[1]\n",
    "    bc = (p1[0] * p1[0] + p1[1] * p1[1] - temp) / 2\n",
    "    cd = (temp - p3[0] * p3[0] - p3[1] * p3[1]) / 2\n",
    "    \n",
    "    determinant = ((p1[0] - p2[0]) * (p2[1] - p3[1]) \n",
    "                 - (p2[0] - p3[0]) * (p1[1] - p2[1]))\n",
    "\n",
    "    if abs(determinant) < epsilon:\n",
    "        return (None, np.inf)\n",
    "\n",
    "    # Center of the circle\n",
    "    centerX = (bc * (p2[1] - p3[1]) \n",
    "             - cd * (p1[1] - p2[1])) / determinant\n",
    "    centerY = (cd * (p1[0] - p2[0]) \n",
    "             - bc * (p2[0] - p3[0])) / determinant\n",
    "\n",
    "    radius = np.sqrt((centerX - p1[0]) ** 2 + (centerY - p1[1]) ** 2)\n",
    "    return ((centerX, centerY), radius) "
   ]
  },
  {
   "cell_type": "markdown",
   "metadata": {},
   "source": [
    "### Triangulating and showing results"
   ]
  },
  {
   "cell_type": "code",
   "execution_count": 40,
   "metadata": {
    "scrolled": true
   },
   "outputs": [
    {
     "data": {
      "image/png": "[encoded data removed]",
      "text/plain": [
       "<Figure size 432x216 with 2 Axes>"
      ]
     },
     "metadata": {
      "needs_background": "light"
     },
     "output_type": "display_data"
    }
   ],
   "source": [
    "triangulationResult = tr.triangulate(inputPolygonInfo, opts='Dp')\n",
    "tr.compare(plt, inputPolygonInfo, triangulationResult)\n",
    "\n",
    "vertecies = triangulationResult['vertices']\n",
    "triangles = triangulationResult['triangles']\n",
    "\n",
    "for triangle in triangles:\n",
    "    vertex1 = vertecies[triangle[0]]\n",
    "    vertex2 = vertecies[triangle[1]]\n",
    "    vertex3 = vertecies[triangle[2]]\n",
    "    center, radius = define_circle(vertex1, vertex2, vertex3)\n",
    "    if center is not None:\n",
    "        circle = plt.Circle(center, radius, clip_on = False)\n",
    "    \n",
    "        circle.set_edgecolor(circleBorderColor)\n",
    "        circle.set_facecolor(circleInnerColor)\n",
    "    \n",
    "        plt.gcf().gca().add_artist(circle)\n",
    "\n",
    "\n",
    "#TODO: draw circles for all triangles of the triangulated polygon\n",
    "#     (choose points from tringulationResult)\n",
    "\n"
   ]
  },
  {
   "cell_type": "code",
   "execution_count": null,
   "metadata": {},
   "outputs": [],
   "source": []
  }
 ],
 "metadata": {
  "kernelspec": {
   "display_name": "Python 3",
   "language": "python",
   "name": "python3"
  },
  "language_info": {
   "codemirror_mode": {
    "name": "ipython",
    "version": 3
   },
   "file_extension": ".py",
   "mimetype": "text/x-python",
   "name": "python",
   "nbconvert_exporter": "python",
   "pygments_lexer": "ipython3",
   "version": "3.7.0"
  }
 },
 "nbformat": 4,
 "nbformat_minor": 2
}
